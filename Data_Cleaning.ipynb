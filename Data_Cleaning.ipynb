{
  "nbformat": 4,
  "nbformat_minor": 0,
  "metadata": {
    "colab": {
      "provenance": [],
      "authorship_tag": "ABX9TyMDCdpaRD17PfArJ2Jp9/iT",
      "include_colab_link": true
    },
    "kernelspec": {
      "name": "python3",
      "display_name": "Python 3"
    },
    "language_info": {
      "name": "python"
    }
  },
  "cells": [
    {
      "cell_type": "markdown",
      "metadata": {
        "id": "view-in-github",
        "colab_type": "text"
      },
      "source": [
        "<a href=\"https://colab.research.google.com/github/dilaraesmer/Data-Cleaning_1/blob/main/Data_Cleaning.ipynb\" target=\"_parent\"><img src=\"https://colab.research.google.com/assets/colab-badge.svg\" alt=\"Open In Colab\"/></a>"
      ]
    },
    {
      "cell_type": "markdown",
      "source": [
        "The dataset shall be cleaned through the following processes:\n",
        "1. Checking the number of columns\n",
        "2. Changing misspelt column names to the correct names\n",
        "3. Checking for missing values \n",
        "4. Checking for duplicate values\n",
        "5. Checking for outliers\n"
      ],
      "metadata": {
        "id": "L-8WgBgA0kkW"
      }
    },
    {
      "cell_type": "code",
      "source": [
        "# Importing necessary libraries\n",
        "import pandas as pd\n",
        "import seaborn as sns"
      ],
      "metadata": {
        "id": "3RGxbhRg3dEG"
      },
      "execution_count": 1,
      "outputs": []
    },
    {
      "cell_type": "code",
      "source": [
        "# Read the file\n",
        "df = pd.read_csv('diabetes_unclean.csv')"
      ],
      "metadata": {
        "id": "yTCkUHmg8gu8"
      },
      "execution_count": 2,
      "outputs": []
    },
    {
      "cell_type": "code",
      "source": [],
      "metadata": {
        "id": "RyOKRKxH8_wE"
      },
      "execution_count": null,
      "outputs": []
    }
  ]
}