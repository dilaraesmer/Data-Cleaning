{
  "nbformat": 4,
  "nbformat_minor": 0,
  "metadata": {
    "colab": {
      "provenance": [],
      "authorship_tag": "ABX9TyPXYvQ4Ngv4wg7M1FKjIVUW",
      "include_colab_link": true
    },
    "kernelspec": {
      "name": "python3",
      "display_name": "Python 3"
    },
    "language_info": {
      "name": "python"
    }
  },
  "cells": [
    {
      "cell_type": "markdown",
      "metadata": {
        "id": "view-in-github",
        "colab_type": "text"
      },
      "source": [
        "<a href=\"https://colab.research.google.com/github/dilaraesmer/Data-Cleaning_1/blob/main/Data_Cleaning.ipynb\" target=\"_parent\"><img src=\"https://colab.research.google.com/assets/colab-badge.svg\" alt=\"Open In Colab\"/></a>"
      ]
    },
    {
      "cell_type": "markdown",
      "source": [
        "The dataset shall be cleaned through the following processes:\n",
        "1. Checking the number of columns\n",
        "2. Changing misspelt column names to the correct names\n",
        "3. Checking for missing values \n",
        "4. Checking for duplicate values\n",
        "5. Checking for outliers\n"
      ],
      "metadata": {
        "id": "L-8WgBgA0kkW"
      }
    },
    {
      "cell_type": "code",
      "source": [
        "# Importing necessary libraries\n",
        "import pandas as pd\n",
        "import seaborn as sns"
      ],
      "metadata": {
        "id": "3RGxbhRg3dEG"
      },
      "execution_count": 4,
      "outputs": []
    },
    {
      "cell_type": "code",
      "source": [
        "# Read the file\n",
        "df = pd.read_csv('diabetes_unclean.csv')"
      ],
      "metadata": {
        "id": "yTCkUHmg8gu8"
      },
      "execution_count": 5,
      "outputs": []
    },
    {
      "cell_type": "code",
      "source": [
        "# Show first 5 rows in the dataset\n",
        "df.head()"
      ],
      "metadata": {
        "colab": {
          "base_uri": "https://localhost:8080/",
          "height": 206
        },
        "id": "RyOKRKxH8_wE",
        "outputId": "7876c3c0-8031-49de-e807-169978b6e127"
      },
      "execution_count": 6,
      "outputs": [
        {
          "output_type": "execute_result",
          "data": {
            "text/plain": [
              "    ID  No_Pation Gender   AGE  Urea    Cr  HbA1c  Chol   TG  HDL  LDL  VLDL  \\\n",
              "0  502      17975      F  50.0   4.7  46.0    4.9   4.2  0.9  2.4  1.4   0.5   \n",
              "1  735      34221      M  26.0   4.5  62.0    4.9   3.7  1.4  1.1  2.1   0.6   \n",
              "2  420      47975      F  50.0   4.7  46.0    4.9   4.2  0.9  2.4  1.4   0.5   \n",
              "3  680      87656      F  50.0   4.7  46.0    4.9   4.2  0.9  2.4  1.4   0.5   \n",
              "4  504      34223      M  33.0   7.1  46.0    4.9   4.9  1.0  0.8  2.0   0.4   \n",
              "\n",
              "    BMI CLASS  \n",
              "0  24.0     N  \n",
              "1  23.0     N  \n",
              "2  24.0     N  \n",
              "3  24.0     N  \n",
              "4  21.0     N  "
            ],
            "text/html": [
              "\n",
              "  <div id=\"df-cab89013-e880-4ad7-a535-7e01709d6fa6\">\n",
              "    <div class=\"colab-df-container\">\n",
              "      <div>\n",
              "<style scoped>\n",
              "    .dataframe tbody tr th:only-of-type {\n",
              "        vertical-align: middle;\n",
              "    }\n",
              "\n",
              "    .dataframe tbody tr th {\n",
              "        vertical-align: top;\n",
              "    }\n",
              "\n",
              "    .dataframe thead th {\n",
              "        text-align: right;\n",
              "    }\n",
              "</style>\n",
              "<table border=\"1\" class=\"dataframe\">\n",
              "  <thead>\n",
              "    <tr style=\"text-align: right;\">\n",
              "      <th></th>\n",
              "      <th>ID</th>\n",
              "      <th>No_Pation</th>\n",
              "      <th>Gender</th>\n",
              "      <th>AGE</th>\n",
              "      <th>Urea</th>\n",
              "      <th>Cr</th>\n",
              "      <th>HbA1c</th>\n",
              "      <th>Chol</th>\n",
              "      <th>TG</th>\n",
              "      <th>HDL</th>\n",
              "      <th>LDL</th>\n",
              "      <th>VLDL</th>\n",
              "      <th>BMI</th>\n",
              "      <th>CLASS</th>\n",
              "    </tr>\n",
              "  </thead>\n",
              "  <tbody>\n",
              "    <tr>\n",
              "      <th>0</th>\n",
              "      <td>502</td>\n",
              "      <td>17975</td>\n",
              "      <td>F</td>\n",
              "      <td>50.0</td>\n",
              "      <td>4.7</td>\n",
              "      <td>46.0</td>\n",
              "      <td>4.9</td>\n",
              "      <td>4.2</td>\n",
              "      <td>0.9</td>\n",
              "      <td>2.4</td>\n",
              "      <td>1.4</td>\n",
              "      <td>0.5</td>\n",
              "      <td>24.0</td>\n",
              "      <td>N</td>\n",
              "    </tr>\n",
              "    <tr>\n",
              "      <th>1</th>\n",
              "      <td>735</td>\n",
              "      <td>34221</td>\n",
              "      <td>M</td>\n",
              "      <td>26.0</td>\n",
              "      <td>4.5</td>\n",
              "      <td>62.0</td>\n",
              "      <td>4.9</td>\n",
              "      <td>3.7</td>\n",
              "      <td>1.4</td>\n",
              "      <td>1.1</td>\n",
              "      <td>2.1</td>\n",
              "      <td>0.6</td>\n",
              "      <td>23.0</td>\n",
              "      <td>N</td>\n",
              "    </tr>\n",
              "    <tr>\n",
              "      <th>2</th>\n",
              "      <td>420</td>\n",
              "      <td>47975</td>\n",
              "      <td>F</td>\n",
              "      <td>50.0</td>\n",
              "      <td>4.7</td>\n",
              "      <td>46.0</td>\n",
              "      <td>4.9</td>\n",
              "      <td>4.2</td>\n",
              "      <td>0.9</td>\n",
              "      <td>2.4</td>\n",
              "      <td>1.4</td>\n",
              "      <td>0.5</td>\n",
              "      <td>24.0</td>\n",
              "      <td>N</td>\n",
              "    </tr>\n",
              "    <tr>\n",
              "      <th>3</th>\n",
              "      <td>680</td>\n",
              "      <td>87656</td>\n",
              "      <td>F</td>\n",
              "      <td>50.0</td>\n",
              "      <td>4.7</td>\n",
              "      <td>46.0</td>\n",
              "      <td>4.9</td>\n",
              "      <td>4.2</td>\n",
              "      <td>0.9</td>\n",
              "      <td>2.4</td>\n",
              "      <td>1.4</td>\n",
              "      <td>0.5</td>\n",
              "      <td>24.0</td>\n",
              "      <td>N</td>\n",
              "    </tr>\n",
              "    <tr>\n",
              "      <th>4</th>\n",
              "      <td>504</td>\n",
              "      <td>34223</td>\n",
              "      <td>M</td>\n",
              "      <td>33.0</td>\n",
              "      <td>7.1</td>\n",
              "      <td>46.0</td>\n",
              "      <td>4.9</td>\n",
              "      <td>4.9</td>\n",
              "      <td>1.0</td>\n",
              "      <td>0.8</td>\n",
              "      <td>2.0</td>\n",
              "      <td>0.4</td>\n",
              "      <td>21.0</td>\n",
              "      <td>N</td>\n",
              "    </tr>\n",
              "  </tbody>\n",
              "</table>\n",
              "</div>\n",
              "      <button class=\"colab-df-convert\" onclick=\"convertToInteractive('df-cab89013-e880-4ad7-a535-7e01709d6fa6')\"\n",
              "              title=\"Convert this dataframe to an interactive table.\"\n",
              "              style=\"display:none;\">\n",
              "        \n",
              "  <svg xmlns=\"http://www.w3.org/2000/svg\" height=\"24px\"viewBox=\"0 0 24 24\"\n",
              "       width=\"24px\">\n",
              "    <path d=\"M0 0h24v24H0V0z\" fill=\"none\"/>\n",
              "    <path d=\"M18.56 5.44l.94 2.06.94-2.06 2.06-.94-2.06-.94-.94-2.06-.94 2.06-2.06.94zm-11 1L8.5 8.5l.94-2.06 2.06-.94-2.06-.94L8.5 2.5l-.94 2.06-2.06.94zm10 10l.94 2.06.94-2.06 2.06-.94-2.06-.94-.94-2.06-.94 2.06-2.06.94z\"/><path d=\"M17.41 7.96l-1.37-1.37c-.4-.4-.92-.59-1.43-.59-.52 0-1.04.2-1.43.59L10.3 9.45l-7.72 7.72c-.78.78-.78 2.05 0 2.83L4 21.41c.39.39.9.59 1.41.59.51 0 1.02-.2 1.41-.59l7.78-7.78 2.81-2.81c.8-.78.8-2.07 0-2.86zM5.41 20L4 18.59l7.72-7.72 1.47 1.35L5.41 20z\"/>\n",
              "  </svg>\n",
              "      </button>\n",
              "      \n",
              "  <style>\n",
              "    .colab-df-container {\n",
              "      display:flex;\n",
              "      flex-wrap:wrap;\n",
              "      gap: 12px;\n",
              "    }\n",
              "\n",
              "    .colab-df-convert {\n",
              "      background-color: #E8F0FE;\n",
              "      border: none;\n",
              "      border-radius: 50%;\n",
              "      cursor: pointer;\n",
              "      display: none;\n",
              "      fill: #1967D2;\n",
              "      height: 32px;\n",
              "      padding: 0 0 0 0;\n",
              "      width: 32px;\n",
              "    }\n",
              "\n",
              "    .colab-df-convert:hover {\n",
              "      background-color: #E2EBFA;\n",
              "      box-shadow: 0px 1px 2px rgba(60, 64, 67, 0.3), 0px 1px 3px 1px rgba(60, 64, 67, 0.15);\n",
              "      fill: #174EA6;\n",
              "    }\n",
              "\n",
              "    [theme=dark] .colab-df-convert {\n",
              "      background-color: #3B4455;\n",
              "      fill: #D2E3FC;\n",
              "    }\n",
              "\n",
              "    [theme=dark] .colab-df-convert:hover {\n",
              "      background-color: #434B5C;\n",
              "      box-shadow: 0px 1px 3px 1px rgba(0, 0, 0, 0.15);\n",
              "      filter: drop-shadow(0px 1px 2px rgba(0, 0, 0, 0.3));\n",
              "      fill: #FFFFFF;\n",
              "    }\n",
              "  </style>\n",
              "\n",
              "      <script>\n",
              "        const buttonEl =\n",
              "          document.querySelector('#df-cab89013-e880-4ad7-a535-7e01709d6fa6 button.colab-df-convert');\n",
              "        buttonEl.style.display =\n",
              "          google.colab.kernel.accessAllowed ? 'block' : 'none';\n",
              "\n",
              "        async function convertToInteractive(key) {\n",
              "          const element = document.querySelector('#df-cab89013-e880-4ad7-a535-7e01709d6fa6');\n",
              "          const dataTable =\n",
              "            await google.colab.kernel.invokeFunction('convertToInteractive',\n",
              "                                                     [key], {});\n",
              "          if (!dataTable) return;\n",
              "\n",
              "          const docLinkHtml = 'Like what you see? Visit the ' +\n",
              "            '<a target=\"_blank\" href=https://colab.research.google.com/notebooks/data_table.ipynb>data table notebook</a>'\n",
              "            + ' to learn more about interactive tables.';\n",
              "          element.innerHTML = '';\n",
              "          dataTable['output_type'] = 'display_data';\n",
              "          await google.colab.output.renderOutput(dataTable, element);\n",
              "          const docLink = document.createElement('div');\n",
              "          docLink.innerHTML = docLinkHtml;\n",
              "          element.appendChild(docLink);\n",
              "        }\n",
              "      </script>\n",
              "    </div>\n",
              "  </div>\n",
              "  "
            ]
          },
          "metadata": {},
          "execution_count": 6
        }
      ]
    },
    {
      "cell_type": "code",
      "source": [
        "# Checking for number of columns\n",
        "df.columns"
      ],
      "metadata": {
        "colab": {
          "base_uri": "https://localhost:8080/"
        },
        "id": "nZsNWUNiL7NZ",
        "outputId": "fc29ac3e-c123-41f0-a2e4-6589d6ddd099"
      },
      "execution_count": 7,
      "outputs": [
        {
          "output_type": "execute_result",
          "data": {
            "text/plain": [
              "Index(['ID', 'No_Pation', 'Gender', 'AGE', 'Urea', 'Cr', 'HbA1c', 'Chol', 'TG',\n",
              "       'HDL', 'LDL', 'VLDL', 'BMI', 'CLASS'],\n",
              "      dtype='object')"
            ]
          },
          "metadata": {},
          "execution_count": 7
        }
      ]
    },
    {
      "cell_type": "code",
      "source": [
        "# Rename the column \"No_Pation\" to \"Patients_No\"\n",
        "df.rename(columns={\"No_Pation\": \"Patients_No\"}, inplace=True)"
      ],
      "metadata": {
        "id": "YdeWqJlgPJzq"
      },
      "execution_count": 12,
      "outputs": []
    },
    {
      "cell_type": "code",
      "source": [
        "# Confirm the change\n",
        "df.columns"
      ],
      "metadata": {
        "colab": {
          "base_uri": "https://localhost:8080/"
        },
        "id": "lxoGIIRqQK4n",
        "outputId": "be9e6152-5284-4fbf-9cc7-9ae401377df9"
      },
      "execution_count": 13,
      "outputs": [
        {
          "output_type": "execute_result",
          "data": {
            "text/plain": [
              "Index(['ID', 'Patients_No', 'Gender', 'AGE', 'Urea', 'Cr', 'HbA1c', 'Chol',\n",
              "       'TG', 'HDL', 'LDL', 'VLDL', 'BMI', 'CLASS'],\n",
              "      dtype='object')"
            ]
          },
          "metadata": {},
          "execution_count": 13
        }
      ]
    },
    {
      "cell_type": "code",
      "source": [
        "# To check for the missing values\n",
        "df.isnull().sum()"
      ],
      "metadata": {
        "colab": {
          "base_uri": "https://localhost:8080/"
        },
        "id": "-2aE9ZgZQdNL",
        "outputId": "369f8563-a809-4dec-96eb-2a528e26287c"
      },
      "execution_count": 14,
      "outputs": [
        {
          "output_type": "execute_result",
          "data": {
            "text/plain": [
              "ID             0\n",
              "Patients_No    0\n",
              "Gender         0\n",
              "AGE            1\n",
              "Urea           1\n",
              "Cr             2\n",
              "HbA1c          3\n",
              "Chol           2\n",
              "TG             2\n",
              "HDL            1\n",
              "LDL            2\n",
              "VLDL           1\n",
              "BMI            0\n",
              "CLASS          0\n",
              "dtype: int64"
            ]
          },
          "metadata": {},
          "execution_count": 14
        }
      ]
    },
    {
      "cell_type": "code",
      "source": [
        "mean_value = df[\"HbA1c\"].mean()\n",
        "mean_value"
      ],
      "metadata": {
        "colab": {
          "base_uri": "https://localhost:8080/"
        },
        "id": "58Nz1BA9RPoS",
        "outputId": "7324cd34-6172-4708-f749-d6671a9d2a58"
      },
      "execution_count": 15,
      "outputs": [
        {
          "output_type": "execute_result",
          "data": {
            "text/plain": [
              "8.284155069582505"
            ]
          },
          "metadata": {},
          "execution_count": 15
        }
      ]
    },
    {
      "cell_type": "code",
      "source": [
        "# Using the mean value to replace the missing records\n",
        "df[\"HbA1c\"].fillna(mean_value, inplace=True)"
      ],
      "metadata": {
        "id": "5cDUDCPERyoS"
      },
      "execution_count": 16,
      "outputs": []
    },
    {
      "cell_type": "code",
      "source": [
        "# To confirm the change\n",
        "df.isnull().sum()"
      ],
      "metadata": {
        "colab": {
          "base_uri": "https://localhost:8080/"
        },
        "id": "LqyfjrDvSSFR",
        "outputId": "c9e6f6ac-9c20-4234-d819-189999bb7701"
      },
      "execution_count": 17,
      "outputs": [
        {
          "output_type": "execute_result",
          "data": {
            "text/plain": [
              "ID             0\n",
              "Patients_No    0\n",
              "Gender         0\n",
              "AGE            1\n",
              "Urea           1\n",
              "Cr             2\n",
              "HbA1c          0\n",
              "Chol           2\n",
              "TG             2\n",
              "HDL            1\n",
              "LDL            2\n",
              "VLDL           1\n",
              "BMI            0\n",
              "CLASS          0\n",
              "dtype: int64"
            ]
          },
          "metadata": {},
          "execution_count": 17
        }
      ]
    },
    {
      "cell_type": "code",
      "source": [
        "# Dropping the missing values of other columns\n",
        "df1 = df.dropna()\n",
        "df1.isnull().sum()"
      ],
      "metadata": {
        "colab": {
          "base_uri": "https://localhost:8080/"
        },
        "id": "NiLu1xqjSqMW",
        "outputId": "ecf5e57d-23cf-4433-f8cc-7e2523e73c18"
      },
      "execution_count": 18,
      "outputs": [
        {
          "output_type": "execute_result",
          "data": {
            "text/plain": [
              "ID             0\n",
              "Patients_No    0\n",
              "Gender         0\n",
              "AGE            0\n",
              "Urea           0\n",
              "Cr             0\n",
              "HbA1c          0\n",
              "Chol           0\n",
              "TG             0\n",
              "HDL            0\n",
              "LDL            0\n",
              "VLDL           0\n",
              "BMI            0\n",
              "CLASS          0\n",
              "dtype: int64"
            ]
          },
          "metadata": {},
          "execution_count": 18
        }
      ]
    },
    {
      "cell_type": "code",
      "source": [
        "# Check for information concerning the dataset\n",
        "df.info()"
      ],
      "metadata": {
        "colab": {
          "base_uri": "https://localhost:8080/"
        },
        "id": "WiR4W5lqTG47",
        "outputId": "30b4701f-bab0-45a1-d15e-5ae6df2d3185"
      },
      "execution_count": 19,
      "outputs": [
        {
          "output_type": "stream",
          "name": "stdout",
          "text": [
            "<class 'pandas.core.frame.DataFrame'>\n",
            "RangeIndex: 1009 entries, 0 to 1008\n",
            "Data columns (total 14 columns):\n",
            " #   Column       Non-Null Count  Dtype  \n",
            "---  ------       --------------  -----  \n",
            " 0   ID           1009 non-null   int64  \n",
            " 1   Patients_No  1009 non-null   int64  \n",
            " 2   Gender       1009 non-null   object \n",
            " 3   AGE          1008 non-null   float64\n",
            " 4   Urea         1008 non-null   float64\n",
            " 5   Cr           1007 non-null   float64\n",
            " 6   HbA1c        1009 non-null   float64\n",
            " 7   Chol         1007 non-null   float64\n",
            " 8   TG           1007 non-null   float64\n",
            " 9   HDL          1008 non-null   float64\n",
            " 10  LDL          1007 non-null   float64\n",
            " 11  VLDL         1008 non-null   float64\n",
            " 12  BMI          1009 non-null   float64\n",
            " 13  CLASS        1009 non-null   object \n",
            "dtypes: float64(10), int64(2), object(2)\n",
            "memory usage: 110.5+ KB\n"
          ]
        }
      ]
    },
    {
      "cell_type": "code",
      "source": [
        "df1.groupby('CLASS')['CLASS'].agg(\"count\")"
      ],
      "metadata": {
        "colab": {
          "base_uri": "https://localhost:8080/"
        },
        "id": "qNGTxfBCUMtR",
        "outputId": "ef5a598f-3ab8-4783-8da7-3031b39c6896"
      },
      "execution_count": 22,
      "outputs": [
        {
          "output_type": "execute_result",
          "data": {
            "text/plain": [
              "CLASS\n",
              "N     102\n",
              "N       1\n",
              "P      53\n",
              "Y     832\n",
              "Y       9\n",
              "Name: CLASS, dtype: int64"
            ]
          },
          "metadata": {},
          "execution_count": 22
        }
      ]
    },
    {
      "cell_type": "code",
      "source": [
        "# Check for the unique values in the column 'CLASS'\n",
        "df['CLASS'].unique()"
      ],
      "metadata": {
        "colab": {
          "base_uri": "https://localhost:8080/"
        },
        "id": "eM3-QjY_U2vS",
        "outputId": "1b9b8c56-3fa4-4ce0-85a8-e1ca3f8de660"
      },
      "execution_count": 23,
      "outputs": [
        {
          "output_type": "execute_result",
          "data": {
            "text/plain": [
              "array(['N', 'N ', 'P', 'Y', 'Y '], dtype=object)"
            ]
          },
          "metadata": {},
          "execution_count": 23
        }
      ]
    },
    {
      "cell_type": "code",
      "source": [
        "# To clean the column and replace the unique values\n",
        "df1[\"CLASS\"] = df1[\"CLASS\"].str.replace(\"Y \", \"Y\")\n",
        "df1[\"CLASS\"] = df1[\"CLASS\"].str.replace(\"N \", \"N\")"
      ],
      "metadata": {
        "colab": {
          "base_uri": "https://localhost:8080/"
        },
        "id": "ycSPSd3IVGn1",
        "outputId": "6962b5f3-a62c-423a-d312-997d2c5414ac"
      },
      "execution_count": 29,
      "outputs": [
        {
          "output_type": "stream",
          "name": "stderr",
          "text": [
            "<ipython-input-29-4ed6e3ec8a70>:2: SettingWithCopyWarning: \n",
            "A value is trying to be set on a copy of a slice from a DataFrame.\n",
            "Try using .loc[row_indexer,col_indexer] = value instead\n",
            "\n",
            "See the caveats in the documentation: https://pandas.pydata.org/pandas-docs/stable/user_guide/indexing.html#returning-a-view-versus-a-copy\n",
            "  df1[\"CLASS\"] = df1[\"CLASS\"].str.replace(\"Y \", \"Y\")\n",
            "<ipython-input-29-4ed6e3ec8a70>:3: SettingWithCopyWarning: \n",
            "A value is trying to be set on a copy of a slice from a DataFrame.\n",
            "Try using .loc[row_indexer,col_indexer] = value instead\n",
            "\n",
            "See the caveats in the documentation: https://pandas.pydata.org/pandas-docs/stable/user_guide/indexing.html#returning-a-view-versus-a-copy\n",
            "  df1[\"CLASS\"] = df1[\"CLASS\"].str.replace(\"N \", \"N\")\n"
          ]
        }
      ]
    },
    {
      "cell_type": "code",
      "source": [
        "# To confirm the change\n",
        "df1[\"CLASS\"].unique()"
      ],
      "metadata": {
        "colab": {
          "base_uri": "https://localhost:8080/"
        },
        "id": "_Lh0t29rW08g",
        "outputId": "c13cef5b-8dc5-470c-96a3-c006637d086c"
      },
      "execution_count": 30,
      "outputs": [
        {
          "output_type": "execute_result",
          "data": {
            "text/plain": [
              "array(['N', 'P', 'Y'], dtype=object)"
            ]
          },
          "metadata": {},
          "execution_count": 30
        }
      ]
    },
    {
      "cell_type": "code",
      "source": [],
      "metadata": {
        "id": "u0T52tfKYLwG"
      },
      "execution_count": null,
      "outputs": []
    }
  ]
}