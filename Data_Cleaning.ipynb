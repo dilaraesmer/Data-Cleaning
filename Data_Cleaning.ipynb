{
  "nbformat": 4,
  "nbformat_minor": 0,
  "metadata": {
    "colab": {
      "provenance": [],
      "authorship_tag": "ABX9TyPzC5kJTWumXT0vzeP1yE5N",
      "include_colab_link": true
    },
    "kernelspec": {
      "name": "python3",
      "display_name": "Python 3"
    },
    "language_info": {
      "name": "python"
    }
  },
  "cells": [
    {
      "cell_type": "markdown",
      "metadata": {
        "id": "view-in-github",
        "colab_type": "text"
      },
      "source": [
        "<a href=\"https://colab.research.google.com/github/dilaraesmer/Data-Cleaning/blob/main/Data_Cleaning.ipynb\" target=\"_parent\"><img src=\"https://colab.research.google.com/assets/colab-badge.svg\" alt=\"Open In Colab\"/></a>"
      ]
    },
    {
      "cell_type": "markdown",
      "source": [
        "The dataset shall be cleaned through the following processes:\n",
        "1. Checking the number of columns\n",
        "2. Changing misspelt column names to the correct names\n",
        "3. Checking for missing values \n",
        "4. Checking for duplicate values\n",
        "5. Checking for outliers\n"
      ],
      "metadata": {
        "id": "L-8WgBgA0kkW"
      }
    }
  ]
}