{
  "nbformat": 4,
  "nbformat_minor": 0,
  "metadata": {
    "colab": {
      "name": "Data Cleaning",
      "private_outputs": true,
      "provenance": [],
      "collapsed_sections": []
    },
    "kernelspec": {
      "name": "python3",
      "display_name": "Python 3"
    },
    "language_info": {
      "name": "python"
    }
  },
  "cells": [
    {
      "cell_type": "code",
      "execution_count": null,
      "metadata": {
        "id": "ouQR02u6LQD1"
      },
      "outputs": [],
      "source": [
        "import pandas as pd\n",
        "import numpy as np"
      ]
    },
    {
      "cell_type": "code",
      "source": [
        "nfl_data = pd.read_csv(\"NFL Play by Play 2009-2016 (v3).csv\")\n",
        "nfl_data"
      ],
      "metadata": {
        "id": "4GfDS59-QSnp"
      },
      "execution_count": null,
      "outputs": []
    },
    {
      "cell_type": "code",
      "source": [
        "np.random.seed(0)"
      ],
      "metadata": {
        "id": "hTdDB1iKeTDS"
      },
      "execution_count": null,
      "outputs": []
    },
    {
      "cell_type": "code",
      "source": [
        "nfl_data.head()"
      ],
      "metadata": {
        "id": "Ig78rsFHejYx"
      },
      "execution_count": null,
      "outputs": []
    },
    {
      "cell_type": "code",
      "source": [
        "missing_values_count = nfl_data.isnull().sum()"
      ],
      "metadata": {
        "id": "oRWp2iB0ANA3"
      },
      "execution_count": null,
      "outputs": []
    },
    {
      "cell_type": "code",
      "source": [
        "missing_values_count[0:10]"
      ],
      "metadata": {
        "id": "LOtCdw_TBjka"
      },
      "execution_count": null,
      "outputs": []
    },
    {
      "cell_type": "code",
      "source": [
        "total_cells = np.product(nfl_data.shape)\n",
        "total_missing = missing_values_count.sum()"
      ],
      "metadata": {
        "id": "BsAqHIV_DENE"
      },
      "execution_count": null,
      "outputs": []
    },
    {
      "cell_type": "code",
      "source": [
        "percent_missing = (total_missing/total_cells) * 100\n",
        "print(percent_missing)"
      ],
      "metadata": {
        "id": "J6l_VmI1EAh1"
      },
      "execution_count": null,
      "outputs": []
    },
    {
      "cell_type": "code",
      "source": [
        "nfl_data.dropna()"
      ],
      "metadata": {
        "id": "Y4MlNoLFFSy5"
      },
      "execution_count": null,
      "outputs": []
    },
    {
      "cell_type": "code",
      "source": [
        "columns_with_na_dropped = nfl_data.dropna(axis=1)\n",
        "columns_with_na_dropped.head()"
      ],
      "metadata": {
        "id": "Rzh2iuh6Fyyj"
      },
      "execution_count": null,
      "outputs": []
    },
    {
      "cell_type": "code",
      "source": [
        "print(\"Columns in original dataset: %d \\n\" % nfl_data.shape[1])\n",
        "print(\"Columns with na's dropped: %d\" % columns_with_na_dropped.shape[1])"
      ],
      "metadata": {
        "id": "I5s3lEnjKPbS"
      },
      "execution_count": null,
      "outputs": []
    },
    {
      "cell_type": "code",
      "source": [
        "subset_nfl_data = nfl_data.loc[:, 'EPA' : 'Season'].head()\n",
        "subset_nfl_data"
      ],
      "metadata": {
        "id": "GLbR4ioaLLWi"
      },
      "execution_count": null,
      "outputs": []
    },
    {
      "cell_type": "code",
      "source": [
        "subset_nfl_data.fillna(0)"
      ],
      "metadata": {
        "id": "GOqvKlgoMSEK"
      },
      "execution_count": null,
      "outputs": []
    },
    {
      "cell_type": "code",
      "source": [
        "subset_nfl_data.fillna(method='bfill', axis=0).fillna(0)"
      ],
      "metadata": {
        "id": "Xfdw7aAkOWTP"
      },
      "execution_count": null,
      "outputs": []
    }
  ]
}